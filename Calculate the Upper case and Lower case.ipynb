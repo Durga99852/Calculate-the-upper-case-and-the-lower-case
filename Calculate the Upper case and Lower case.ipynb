{
 "cells": [
  {
   "cell_type": "code",
   "execution_count": 7,
   "id": "0718a8b7",
   "metadata": {},
   "outputs": [
    {
     "name": "stdout",
     "output_type": "stream",
     "text": [
      "Original String: The quick Brown Fox\n",
      "No. of Upper case characters :  3\n",
      "No. of Lower case characters :  13\n"
     ]
    }
   ],
   "source": [
    "def string_test(s):  #define a function\n",
    "    d={\"UPPER_CASE\":0, \"LOWER_CASE\":0}   \n",
    "    for char in s:\n",
    "        if char.isupper():       # count the upper case values in a string\n",
    "            d[\"UPPER_CASE\"]+=1\n",
    "        elif char.islower():      # count the lower case values in a string  \n",
    "            d[\"LOWER_CASE\"]+=1\n",
    "        else:\n",
    "            pass\n",
    "        \n",
    "    print(\"Original String:\",s)\n",
    "    print(\"No. of Upper case characters : \", d['UPPER_CASE'])\n",
    "    print(\"No. of Lower case characters : \", d['LOWER_CASE'])\n",
    "    \n",
    "string_test('The quick Brown Fox')  #taken as input string"
   ]
  },
  {
   "cell_type": "markdown",
   "id": "1722a0ac",
   "metadata": {},
   "source": [
    "# Test case"
   ]
  },
  {
   "cell_type": "code",
   "execution_count": 8,
   "id": "d8227de2",
   "metadata": {},
   "outputs": [
    {
     "name": "stdout",
     "output_type": "stream",
     "text": [
      "Original String: My name is DURGA REDDY\n",
      "No. of Upper case characters :  11\n",
      "No. of Lower case characters :  7\n"
     ]
    }
   ],
   "source": [
    "def string_test(s):\n",
    "    d={\"UPPER_CASE\":0, \"LOWER_CASE\":0}\n",
    "    for char in s:\n",
    "        if char.isupper():\n",
    "            d[\"UPPER_CASE\"]+=1\n",
    "        elif char.islower():\n",
    "            d[\"LOWER_CASE\"]+=1\n",
    "        else:\n",
    "            pass\n",
    "        \n",
    "    print(\"Original String:\",s)\n",
    "    print(\"No. of Upper case characters : \", d['UPPER_CASE'])\n",
    "    print(\"No. of Lower case characters : \", d['LOWER_CASE'])\n",
    "    \n",
    "string_test('My name is DURGA REDDY')"
   ]
  },
  {
   "cell_type": "markdown",
   "id": "c475a1ec",
   "metadata": {},
   "source": [
    "# Test case"
   ]
  },
  {
   "cell_type": "code",
   "execution_count": 9,
   "id": "fe8c4c1b",
   "metadata": {},
   "outputs": [
    {
     "name": "stdout",
     "output_type": "stream",
     "text": [
      "Original String: Now i am doing a DATA SCIENCE course in EDYODA \n",
      "No. of Upper case characters :  18\n",
      "No. of Lower case characters :  19\n"
     ]
    }
   ],
   "source": [
    "def string_test(s):\n",
    "    d={\"UPPER_CASE\":0, \"LOWER_CASE\":0}\n",
    "    for char in s:\n",
    "        if char.isupper():\n",
    "            d[\"UPPER_CASE\"]+=1\n",
    "        elif char.islower():\n",
    "            d[\"LOWER_CASE\"]+=1\n",
    "        else:\n",
    "            pass\n",
    "        \n",
    "    print(\"Original String:\",s)\n",
    "    print(\"No. of Upper case characters : \", d['UPPER_CASE'])\n",
    "    print(\"No. of Lower case characters : \", d['LOWER_CASE'])\n",
    "    \n",
    "string_test('Now i am doing a DATA SCIENCE course in EDYODA ')"
   ]
  },
  {
   "cell_type": "code",
   "execution_count": null,
   "id": "f7b1eca5",
   "metadata": {},
   "outputs": [],
   "source": []
  },
  {
   "cell_type": "code",
   "execution_count": null,
   "id": "a2c4d277",
   "metadata": {},
   "outputs": [],
   "source": []
  },
  {
   "cell_type": "code",
   "execution_count": null,
   "id": "7f1f7ee4",
   "metadata": {},
   "outputs": [],
   "source": []
  },
  {
   "cell_type": "code",
   "execution_count": null,
   "id": "997d5ac9",
   "metadata": {},
   "outputs": [],
   "source": []
  }
 ],
 "metadata": {
  "kernelspec": {
   "display_name": "Python 3 (ipykernel)",
   "language": "python",
   "name": "python3"
  },
  "language_info": {
   "codemirror_mode": {
    "name": "ipython",
    "version": 3
   },
   "file_extension": ".py",
   "mimetype": "text/x-python",
   "name": "python",
   "nbconvert_exporter": "python",
   "pygments_lexer": "ipython3",
   "version": "3.10.0"
  }
 },
 "nbformat": 4,
 "nbformat_minor": 5
}
